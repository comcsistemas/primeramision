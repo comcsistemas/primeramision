{
 "cells": [
  {
   "cell_type": "markdown",
   "metadata": {},
   "source": [
    "## Ejercicio1 - Utilizar operadores aritméticos\n"
   ]
  },
  {
   "cell_type": "code",
   "execution_count": 7,
   "metadata": {},
   "outputs": [
    {
     "name": "stdout",
     "output_type": "stream",
     "text": [
      "Distancia en km  628949330\n",
      "Distancia en millas  390577533.93\n"
     ]
    }
   ],
   "source": [
    "Tierra= 149597870\n",
    "Jupiter= 778547200\n",
    "distancia =Jupiter - Tierra\n",
    "print ('Distancia en km ',distancia)\n",
    "distanciam = distancia * .621\n",
    "print ('Distancia en millas ', distanciam)"
   ]
  },
  {
   "cell_type": "markdown",
   "metadata": {},
   "source": [
    "## Ejercicio 2: convierte cadenas en números y usa valores absolutos"
   ]
  },
  {
   "cell_type": "code",
   "execution_count": 11,
   "metadata": {},
   "outputs": [
    {
     "name": "stdout",
     "output_type": "stream",
     "text": [
      "distancia en km:  5000\n",
      "distancia en mi:  3105.0\n"
     ]
    }
   ],
   "source": [
    "p1 = input(\"Introduce la primera distancia\")\n",
    "p2 = input(\"Introduce la segunda distancia\")\n",
    "p1 = int(p1)\n",
    "p2 = int(p2)\n",
    "\n",
    "dkm = p2 - p1\n",
    "print('distancia en km: ', abs(dkm))\n",
    "\n",
    "dmi = dkm * 0.621\n",
    "print('distancia en mi: ', abs(dmi))"
   ]
  }
 ],
 "metadata": {
  "interpreter": {
   "hash": "1aef2bdda08b21ba3644071cb1bc04a580fb49435feb14c0037bdb9d6f9ad8a6"
  },
  "kernelspec": {
   "display_name": "Python 3.10.2 64-bit",
   "language": "python",
   "name": "python3"
  },
  "language_info": {
   "codemirror_mode": {
    "name": "ipython",
    "version": 3
   },
   "file_extension": ".py",
   "mimetype": "text/x-python",
   "name": "python",
   "nbconvert_exporter": "python",
   "pygments_lexer": "ipython3",
   "version": "3.10.2"
  },
  "orig_nbformat": 4
 },
 "nbformat": 4,
 "nbformat_minor": 2
}

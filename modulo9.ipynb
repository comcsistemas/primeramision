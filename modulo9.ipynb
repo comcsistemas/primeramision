{
 "cells": [
  {
   "cell_type": "markdown",
   "metadata": {},
   "source": [
    "## Ejercicio 1: Trabajar con argumentos en funciones"
   ]
  },
  {
   "cell_type": "code",
   "execution_count": 36,
   "metadata": {},
   "outputs": [],
   "source": [
    "def funcion(tanque1, tanque2, tanque3):\n",
    "    promedio = (tanque1 + tanque2 + tanque3) / 3\n",
    "    return     f\"\"\"Informe:\n",
    "    El promedio es: {promedio}%\n",
    "    \"\"\"\n",
    "    "
   ]
  },
  {
   "cell_type": "code",
   "execution_count": 37,
   "metadata": {},
   "outputs": [
    {
     "name": "stdout",
     "output_type": "stream",
     "text": [
      "Informe:\n",
      "    El promedio es: 403.3333333333333%\n",
      "    \n"
     ]
    }
   ],
   "source": [
    "print(funcion(220, 550, 440))"
   ]
  },
  {
   "cell_type": "markdown",
   "metadata": {},
   "source": [
    "## Ejercicio 2: Trabajo con argumentos de palabra clave"
   ]
  },
  {
   "cell_type": "code",
   "execution_count": 40,
   "metadata": {},
   "outputs": [
    {
     "name": "stdout",
     "output_type": "stream",
     "text": [
      "Informe:\n",
      "    Hora: 10:00pm\n",
      "    Duracion:5 horas\n",
      "    Destino:luna\n",
      "    Tanque externo:3000\n",
      "    Tanque externo:4000\n",
      "    \n"
     ]
    }
   ],
   "source": [
    "def cohete(hora, tiempo, destino, tanext, tanint):\n",
    "    return f\"\"\"Informe:\n",
    "    Hora: {hora}\n",
    "    Duracion:{tiempo}\n",
    "    Destino:{destino}\n",
    "    Tanque externo:{tanext}\n",
    "    Tanque externo:{tanint}\n",
    "    \"\"\"\n",
    "\n",
    "print(cohete('10:00pm', '5 horas', 'luna', 3000, 4000))"
   ]
  }
 ],
 "metadata": {
  "interpreter": {
   "hash": "1aef2bdda08b21ba3644071cb1bc04a580fb49435feb14c0037bdb9d6f9ad8a6"
  },
  "kernelspec": {
   "display_name": "Python 3.10.2 64-bit",
   "language": "python",
   "name": "python3"
  },
  "language_info": {
   "codemirror_mode": {
    "name": "ipython",
    "version": 3
   },
   "file_extension": ".py",
   "mimetype": "text/x-python",
   "name": "python",
   "nbconvert_exporter": "python",
   "pygments_lexer": "ipython3",
   "version": "3.10.2"
  },
  "orig_nbformat": 4
 },
 "nbformat": 4,
 "nbformat_minor": 2
}
